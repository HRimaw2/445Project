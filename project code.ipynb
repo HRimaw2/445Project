{
 "cells": [
  {
   "cell_type": "code",
   "execution_count": 1,
   "metadata": {},
   "outputs": [],
   "source": [
    "import numpy as np\n",
    "import cv2"
   ]
  },
  {
   "cell_type": "code",
   "execution_count": 2,
   "metadata": {},
   "outputs": [],
   "source": [
    "# Retrieved example header from http://paulbourke.net/dataformats/ply/example1.ply\n",
    "\n",
    "# The PLY format encodes an object as a collection of vertices, faces and other elements, and other \n",
    "# important properties like oclor and normal direction. Some of the objects include:\n",
    "# polygon objects from modeling programs, range data, terrain data, and more. \n",
    "header = '''ply\n",
    "                format ascii 1.0\n",
    "                element vertex %(vert_num)d\n",
    "                property float x\n",
    "                property float y\n",
    "                property float z\n",
    "                property uchar red\n",
    "                property uchar green\n",
    "                property uchar blue\n",
    "                end_header\n",
    "                '''"
   ]
  },
  {
   "cell_type": "code",
   "execution_count": 1,
   "metadata": {},
   "outputs": [],
   "source": [
    "# Code for exporting the 3d Image to a 3rd party readable format. What the format does is explained above.\n",
    "# From https://stackoverflow.com/questions/46959106/f-write-unsupported-format-character-error-after-changing-input-data\n",
    "def write_ply(fn, verts, colors):\n",
    "    verts = verts.reshape(-1, 3)\n",
    "    colors = colors.reshape(-1, 3)\n",
    "    verts = np.hstack([verts, colors])\n",
    "    with open(fn, 'wb') as f:\n",
    "        f.write((header % dict(vert_num=len(verts))).encode('utf-8'))\n",
    "        np.savetxt(f, verts, fmt='%f %f %f %d %d %d ')"
   ]
  },
  {
   "cell_type": "code",
   "execution_count": 5,
   "metadata": {},
   "outputs": [
    {
     "name": "stdout",
     "output_type": "stream",
     "text": [
      "loading images...\n",
      "computing disparity...\n",
      "generating 3d point cloud...\n",
      "out.ply saved\n",
      "Done\n"
     ]
    }
   ],
   "source": [
    "imgL = cv2.imread('left_aloe.jpg')\n",
    "imgR = cv2.imread('right_aloe.jpg')\n",
    "\n",
    "# Downscale images for faster processing\n",
    "# We lose pixel information when we downscale, but we chose to downscale anyways for faster computation.\n",
    "imgL = cv2.pyrDown(imgL)\n",
    "imgR = cv2.pyrDown(imgR)\n",
    "\n",
    "# Parameters to determine the quality of the disparity map\n",
    "# window: size of the window or the size of the feature matching part\n",
    "# mdisp: minimum disparity as a limit\n",
    "# ndisp: number of disparity as a tolerance\n",
    "window = 3\n",
    "mdisp = -1\n",
    "ndisp = 16\n",
    "\n",
    "# https://docs.opencv2.org/3.4/d2/d85/classcv2_1_1StereoSGBM.html\n",
    "# Some parameters are changed due to different image input\n",
    "stereo = cv2.StereoSGBM_create(minDisparity = mdisp,\n",
    "    numDisparities = ndisp,\n",
    "    blockSize = 15,\n",
    "    P1 = 8 * 3 * window ** 2,\n",
    "    P2 = 32 * 3 * window ** 2,\n",
    "    disp12MaxDiff = 1,\n",
    "    uniquenessRatio = 10,\n",
    "    speckleWindowSize = 5,\n",
    "    speckleRange = 5,\n",
    ")\n",
    "\n",
    "# Using cv2's method to compute the disparity of the image.\n",
    "disparity = stereo.compute(imgL, imgR).astype(np.float32) / (ndisp * 1.0)\n",
    "\n",
    "# From https://ags.cs.uni-kl.de/fileadmin/inf_ags/3dcv-ws14-15/3DCV_lec01_camera.pdf\n",
    "# reprojecting the image, and flipping the image based on y\n",
    "Q = np.float32([[1, 0, 0, -0.5 * imgL.shape[:2][1]],\n",
    "                [0,-1, 0, 0.5 * imgL.shape[:2][0]],\n",
    "                [0, 0, 0, -0.8 * imgL.shape[:2][1]],\n",
    "                [0, 0, 1, 0]])\n",
    "\n",
    "# reprojecting\n",
    "pts = cv2.reprojectImageTo3D(disparity, Q)\n",
    "colors = cv2.cvtColor(imgL, cv2.COLOR_BGR2RGB)\n",
    "\n",
    "m = disparity > disparity.min()\n",
    "write_ply('output.ply', pts[m], colors[m])"
   ]
  },
  {
   "cell_type": "code",
   "execution_count": null,
   "metadata": {},
   "outputs": [],
   "source": []
  }
 ],
 "metadata": {
  "kernelspec": {
   "display_name": "Python 3",
   "language": "python",
   "name": "python3"
  },
  "language_info": {
   "codemirror_mode": {
    "name": "ipython",
    "version": 3
   },
   "file_extension": ".py",
   "mimetype": "text/x-python",
   "name": "python",
   "nbconvert_exporter": "python",
   "pygments_lexer": "ipython3",
   "version": "3.7.4"
  }
 },
 "nbformat": 4,
 "nbformat_minor": 2
}
