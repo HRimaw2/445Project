{
 "cells": [
  {
   "cell_type": "code",
   "execution_count": 1,
   "metadata": {},
   "outputs": [],
   "source": [
    "import numpy as np\n",
    "import cv2"
   ]
  },
  {
   "cell_type": "code",
   "execution_count": 2,
   "metadata": {},
   "outputs": [],
   "source": [
    "# Retrieved example ply_header from http://paulbourke.net/dataformats/ply/example1.ply\n",
    "\n",
    "# The PLY format encodes an object as a collection of vertices, faces and other elements, and other \n",
    "# important properties like oclor and normal direction. Some of the objects include:\n",
    "# polygon objects from modeling programs, range data, terrain data, and more. \n",
    "ply_header = '''ply\n",
    "                format ascii 1.0\n",
    "                element vertex %(vert_num)d\n",
    "                property float x\n",
    "                property float y\n",
    "                property float z\n",
    "                property uchar red\n",
    "                property uchar green\n",
    "                property uchar blue\n",
    "                end_header\n",
    "                '''"
   ]
  },
  {
   "cell_type": "code",
   "execution_count": 1,
   "metadata": {},
   "outputs": [],
   "source": [
    "# Code for exporting the 3d Image to a 3rd party readable format. What the format does is explained above.\n",
    "# From https://stackoverflow.com/questions/46959106/f-write-unsupported-format-character-error-after-changing-input-data\n",
    "def write_ply(fn, verts, colors):\n",
    "    verts = verts.reshape(-1, 3)\n",
    "    colors = colors.reshape(-1, 3)\n",
    "    verts = np.hstack([verts, colors])\n",
    "    with open(fn, 'wb') as f:\n",
    "        f.write((ply_header % dict(vert_num=len(verts))).encode('utf-8'))\n",
    "        np.savetxt(f, verts, fmt='%f %f %f %d %d %d ')"
   ]
  },
  {
   "cell_type": "code",
   "execution_count": 5,
   "metadata": {},
   "outputs": [
    {
     "name": "stdout",
     "output_type": "stream",
     "text": [
      "loading images...\n",
      "computing disparity...\n",
      "generating 3d point cloud...\n",
      "out.ply saved\n",
      "Done\n"
     ]
    }
   ],
   "source": [
    "print('loading images...')\n",
    "imgL = cv2.pyrDown(cv2.imread('left_aloe.jpg'))  # downscale images for faster processing\n",
    "imgR = cv2.pyrDown(cv2.imread('right_aloe.jpg'))\n",
    "\n",
    "# disparity range is tuned for 'aloe' image pair\n",
    "window_size = 3\n",
    "min_disp = -1\n",
    "num_disp = 16\n",
    "\n",
    "# https://docs.opencv2.org/3.4/d2/d85/classcv2_1_1StereoSGBM.html\n",
    "stereo = cv2.StereoSGBM_create(minDisparity = min_disp,\n",
    "    numDisparities = num_disp,\n",
    "    blockSize = 15,\n",
    "    P1 = 8 * 3 * window_size ** 2,\n",
    "    P2 = 32 * 3 * window_size ** 2,\n",
    "    disp12MaxDiff = 1,\n",
    "    uniquenessRatio = 10,\n",
    "    speckleWindowSize = 5,\n",
    "    speckleRange = 5,\n",
    ")\n",
    "\n",
    "print('computing disparity...')\n",
    "disp = stereo.compute(imgL, imgR).astype(np.float32) / 16.0\n",
    "\n",
    "Q = np.float32([[1, 0, 0, -0.5 * imgL.shape[:2][0]],\n",
    "                [0,-1, 0, 0.5 * imgL.shape[:2][1]],\n",
    "                [0, 0, 0, -0.8 * w],\n",
    "                [0, 0, 1, 0]])\n",
    "\n",
    "points = cv2.reprojectImageTo3D(disp, Q)\n",
    "colors = cv2.cvtColor(imgL, cv2.COLOR_BGR2RGB)\n",
    "\n",
    "mask = disp > disp.min()\n",
    "out_points = points[mask]\n",
    "out_colors = colors[mask]\n",
    "\n",
    "out_fn = 'out.ply'\n",
    "write_ply(out_fn, out_points, out_colors)\n",
    "print('%s saved' % out_fn)\n",
    "\n",
    "cv2.imshow('left', imgL)\n",
    "cv2.imshow('disparity', (disp-min_disp)/num_disp)\n",
    "cv2.waitKey()\n",
    "\n",
    "print('Done')"
   ]
  },
  {
   "cell_type": "code",
   "execution_count": null,
   "metadata": {},
   "outputs": [],
   "source": []
  }
 ],
 "metadata": {
  "kernelspec": {
   "display_name": "Python 3",
   "language": "python",
   "name": "python3"
  },
  "language_info": {
   "codemirror_mode": {
    "name": "ipython",
    "version": 3
   },
   "file_extension": ".py",
   "mimetype": "text/x-python",
   "name": "python",
   "nbconvert_exporter": "python",
   "pygments_lexer": "ipython3",
   "version": "3.7.4"
  }
 },
 "nbformat": 4,
 "nbformat_minor": 2
}
